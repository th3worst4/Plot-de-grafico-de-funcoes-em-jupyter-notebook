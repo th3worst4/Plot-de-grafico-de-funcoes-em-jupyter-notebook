{
 "cells": [
  {
   "cell_type": "code",
   "execution_count": 1,
   "id": "9091b8cc",
   "metadata": {},
   "outputs": [],
   "source": [
    "#imports\n",
    "#definindo variaveis do sympy\n",
    "#definindo a função\n",
    "\n",
    "from sympy import *\n",
    "import matplotlib.pyplot as plt\n",
    "import numpy as np\n",
    "\n",
    "x = Symbol('x')\n",
    "\n",
    "f = Lambda(x, -9.81*x**2/2) # definindo a função\n",
    "\n",
    "hfont = {'fontname':'Helvetica'}"
   ]
  },
  {
   "cell_type": "code",
   "execution_count": 2,
   "id": "7a71419d",
   "metadata": {},
   "outputs": [],
   "source": [
    "#definindo o intervalo a ser estudado\n",
    "#definindo a quantidade de pontos a serem estudados\n",
    "\n",
    "x0 = 0 #ponto inicial\n",
    "xf = 3 #ponto final\n",
    "q = 10000 #qnt max de pontos\n",
    "\n",
    "x_ = np.linspace(x0,xf,q)\n",
    "x__ = []\n",
    "v = []\n",
    "dom = []\n",
    "im =[]"
   ]
  },
  {
   "cell_type": "code",
   "execution_count": 3,
   "id": "63784c0d",
   "metadata": {},
   "outputs": [],
   "source": [
    "if (f(x).subs(x, x_[0])).is_real:\n",
    "    x__.append(x_[0])\n",
    "    v.append(f(x).subs(x, x_[0]))\n",
    "for i in range(1,q):\n",
    "    if (f(x).subs(x, x_[i])).is_real and (f(x).subs(x, x_[i-1])).is_real:\n",
    "        m = Abs(f(x).subs(x, x_[i])-f(x).subs(x, x_[i-1]))\n",
    "        if m < 10 and v != []:\n",
    "            x__.append(x_[i])\n",
    "            v.append(f(x).subs(x, x_[i]))\n",
    "        else:\n",
    "            dom.append(x__)\n",
    "            im.append(v)\n",
    "            v = []\n",
    "            x__ = []\n",
    "            x__.append(x_[i])\n",
    "            v.append(f(x).subs(x, x_[i]))\n",
    "            continue\n",
    "    if f(x).subs(x, x_[i]) == nan or not (f(x).subs(x, x_[i])).is_real:\n",
    "        if v != []:\n",
    "            dom.append(x__)\n",
    "            im.append(v)\n",
    "        v = []\n",
    "        x__ = []\n",
    "        continue\n",
    "\n",
    "dom.append(x__)\n",
    "im.append(v)\n",
    "l = len(dom)\n",
    "\n",
    "#print(dom)\n",
    "#print(im)"
   ]
  },
  {
   "cell_type": "code",
   "execution_count": 4,
   "id": "1191cd59",
   "metadata": {},
   "outputs": [
    {
     "name": "stderr",
     "output_type": "stream",
     "text": [
      "findfont: Font family ['Helvetica'] not found. Falling back to DejaVu Sans.\n"
     ]
    },
    {
     "data": {
      "image/png": "[encoded data removed]",
      "text/plain": [
       "<Figure size 504x396 with 1 Axes>"
      ]
     },
     "metadata": {
      "needs_background": "light"
     },
     "output_type": "display_data"
    }
   ],
   "source": [
    "figura = plt.figure(figsize=(7,5.5)) #tamanho da figura\n",
    "ax = figura.add_subplot(111)\n",
    "\n",
    "ax.autoscale(enable=True, axis='both', tight=None)\n",
    "#ax.set_box_aspect(aspect=0.075)\n",
    "ax.set_xlim(left=0, right=3) #margens x\n",
    "ax.set_ylim(bottom=-50, top =0.2) #margens y\n",
    "\n",
    "\n",
    "ax.set_title(r'Gráfico de $f\\,(x)$')\n",
    "\n",
    "ax.grid(visible=True,which=\"both\",axis=\"both\")\n",
    "ax.set_ylabel(r\"$y$\",fontsize=15, **hfont)\n",
    "ax.set_xlabel(r\"$x$\",fontsize=15, **hfont)\n",
    "\n",
    "for i in range(l):\n",
    "    ax.plot(dom[i],im[i], color = 'cyan')\n",
    "plt.savefig('Gráfico f(x).png', dpi=300, bbox_inches='tight') #salvar\n",
    "plt.box(on=True)\n",
    "\n",
    "plt.show()"
   ]
  },
  {
   "cell_type": "code",
   "execution_count": null,
   "id": "44d494f3",
   "metadata": {},
   "outputs": [],
   "source": []
  }
 ],
 "metadata": {
  "kernelspec": {
   "display_name": "Python 3 (ipykernel)",
   "language": "python",
   "name": "python3"
  },
  "language_info": {
   "codemirror_mode": {
    "name": "ipython",
    "version": 3
   },
   "file_extension": ".py",
   "mimetype": "text/x-python",
   "name": "python",
   "nbconvert_exporter": "python",
   "pygments_lexer": "ipython3",
   "version": "3.9.7"
  }
 },
 "nbformat": 4,
 "nbformat_minor": 5
}
